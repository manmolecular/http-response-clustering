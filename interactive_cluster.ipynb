{
 "cells": [
  {
   "cell_type": "code",
   "execution_count": 1,
   "metadata": {},
   "outputs": [],
   "source": [
    "# Import libraries and dependencies\n",
    "from copy import deepcopy\n",
    "from typing import Tuple, List, Dict\n",
    "\n",
    "from cluster.cluster import CustomCluster\n",
    "from configurations.default_values import (\n",
    "    DefaultQueries,\n",
    "    DefaultShodanValues,\n",
    "    DefaultValues,\n",
    ")\n",
    "from handlers.files_handler import FilesHandler\n",
    "from handlers.shodan_handler import ShodanHandler\n",
    "from helpers.tools import Tools\n",
    "from parsers.http_parser import HttpParser"
   ]
  },
  {
   "cell_type": "code",
   "execution_count": 2,
   "metadata": {},
   "outputs": [],
   "source": [
    "# Create cluster\n",
    "raw_results = FilesHandler().open_results(filename=DefaultValues.DATA_FILE)\n",
    "http_parser = HttpParser(\n",
    "    process_cookie=True,\n",
    "    process_trash_headers=True,\n",
    "    remove_digits=True,\n",
    "    remove_special=True,\n",
    ")\n",
    "prepared_results = Tools.process_data(deepcopy(raw_results), http_parser)\n",
    "\n",
    "cluster = CustomCluster(prepared_results)\n",
    "cluster.prepare_matrix()"
   ]
  },
  {
   "cell_type": "code",
   "execution_count": 3,
   "metadata": {},
   "outputs": [
    {
     "name": "stdout",
     "output_type": "stream",
     "text": [
      "Calculate results for 1 clusters\n",
      "Calculate results for 2 clusters\n",
      "Calculate results for 3 clusters\n",
      "Calculate results for 4 clusters\n",
      "Calculate results for 5 clusters\n",
      "Calculate results for 6 clusters\n",
      "Calculate results for 7 clusters\n",
      "Calculate results for 8 clusters\n",
      "Calculate results for 9 clusters\n"
     ]
    },
    {
     "data": {
      "image/png": "[encoded data removed]",
      "text/plain": [
       "<Figure size 432x288 with 1 Axes>"
      ]
     },
     "metadata": {
      "needs_background": "light"
     },
     "output_type": "display_data"
    }
   ],
   "source": [
    "# Determine quantity of cluster with the Elbow method\n",
    "cluster.determine_k(k_range=(1, 10))"
   ]
  },
  {
   "cell_type": "code",
   "execution_count": 4,
   "metadata": {},
   "outputs": [
    {
     "name": "stdout",
     "output_type": "stream",
     "text": [
      "Current cluster: 0\n",
      "['kbn', 'xpack', 'sig', 'cache', 'content', 'accept', 'encoding', 'vary', 'kibana', 'alive', 'version', 'bytes', 'ranges', 'control', 'type', 'charset', 'utf', 'randomvaluedate', 'date', 'text']\n",
      "Current cluster: 1\n",
      "['envoy', 'upstream', 'service', 'time', 'express', 'powered', 'istio', 'randomvaluelastmodified', 'etag', 'public', 'modified', 'randomvalueetag', 'age', 'max', 'content', 'server', 'utf', 'charset', 'accept', 'bytes']\n",
      "Current cluster: 2\n",
      "['randomvalueexpires', 'expires', 'gunicorn', 'close', 'randomvalueetag', 'etag', 'randomvaluelastmodified', 'modified', 'public', 'age', 'max', 'content', 'server', 'charset', 'utf', 'control', 'cache', 'randomvaluecontentlength', 'ok', 'type']\n",
      "Current cluster: 3\n",
      "['kbn', 'cache', 'content', 'accept', 'version', 'kibana', 'vary', 'encoding', 'alive', 'bytes', 'ranges', 'randomvaluecontentlength', 'control', 'ok', 'text', 'date', 'randomvaluedate', 'type', 'utf', 'charset']\n",
      "Current cluster: 4\n",
      "['undefined', 'kbn', 'xpack', 'sig', 'accept', 'cache', 'content', 'vary', 'encoding', 'kibana', 'alive', 'charset', 'utf', 'bytes', 'ranges', 'randomvaluecontentlength', 'ok', 'control', 'randomvaluedate', 'date']\n"
     ]
    }
   ],
   "source": [
    "# Use value obtained with the Elbow method, for example, from 3 to 5\n",
    "cluster.make_cluster(clusters_q=5)"
   ]
  },
  {
   "cell_type": "code",
   "execution_count": 5,
   "metadata": {},
   "outputs": [
    {
     "name": "stdout",
     "output_type": "stream",
     "text": [
      " ---\n",
      "Examples from clusters directly\n",
      " --- \n",
      "Cluster [0]:\n",
      "kibana content-length: 217 [0] \t - \t 'HTTP/1.1 200 OK\\r\\nkbn-name: kibana\\r\\nkbn-version: 6.3.2\\r\\nkbn-xpack-sig: 5848fb4b2ce9ae3165947b2fd68ee15d\\r\\ncache-control: no-cache\\r\\ncontent-type: text/html; charset=utf-8\\r\\ncontent-length: 217\\r\\naccept-ranges: bytes\\r\\nvary: accept-encoding\\r\\nDate: Thu, 19 Mar 2020 18:35:39 GMT\\r\\nConnection: keep-alive\\r\\n\\r\\n'\n",
      "kibana content-length: 217 [0] \t - \t 'HTTP/1.1 200 OK\\r\\nkbn-name: kibana\\r\\nkbn-version: 6.2.3\\r\\nkbn-xpack-sig: b32d689ffa8cedcdb4ab879cd91bb690\\r\\ncache-control: no-cache\\r\\ncontent-type: text/html; charset=utf-8\\r\\ncontent-length: 217\\r\\naccept-ranges: bytes\\r\\nvary: accept-encoding\\r\\nDate: Thu, 19 Mar 2020 17:44:31 GMT\\r\\nConnection: keep-alive\\r\\n\\r\\n'\n",
      "kibana content-length: 217 [0] \t - \t 'HTTP/1.1 200 OK\\r\\nkbn-name: kibana\\r\\nkbn-version: 6.3.0\\r\\nkbn-xpack-sig: 84d56b47ba5ee583a8a8511986a9e7fa\\r\\ncache-control: no-cache\\r\\ncontent-type: text/html; charset=utf-8\\r\\ncontent-length: 217\\r\\naccept-ranges: bytes\\r\\nvary: accept-encoding\\r\\nDate: Thu, 19 Mar 2020 17:08:25 GMT\\r\\nConnection: keep-alive\\r\\n\\r\\n'\n",
      "kibana content-length: 217 [0] \t - \t 'HTTP/1.1 200 OK\\r\\nkbn-name: kibana\\r\\nkbn-version: 6.2.2\\r\\nkbn-xpack-sig: 4bdbe0198f13b67f74c483ee6d1e56e1\\r\\ncache-control: no-cache\\r\\ncontent-type: text/html; charset=utf-8\\r\\ncontent-length: 217\\r\\naccept-ranges: bytes\\r\\nvary: accept-encoding\\r\\nDate: Thu, 19 Mar 2020 18:32:49 GMT\\r\\nConnection: keep-alive\\r\\n\\r\\n'\n",
      "kibana content-length: 217 [0] \t - \t 'HTTP/1.1 200 OK\\r\\nkbn-name: kibana\\r\\nkbn-version: 5.6.0\\r\\nkbn-xpack-sig: 6b62f5a25b4b92c16ddd2a88765fde48\\r\\ncache-control: no-cache\\r\\ncontent-type: text/html; charset=utf-8\\r\\ncontent-length: 217\\r\\naccept-ranges: bytes\\r\\nvary: accept-encoding\\r\\nDate: Thu, 19 Mar 2020 15:51:17 GMT\\r\\nConnection: keep-alive\\r\\n\\r\\n'\n",
      "Cluster [1]:\n",
      "http.title:\"Kubeflow Central Dashboard\" [1] \t - \t 'HTTP/1.1 200 OK\\r\\nDate: Thu, 19 Mar 2020 15:56:42 GMT\\r\\nContent-Type: text/html; charset=UTF-8\\r\\nContent-Length: 1433\\r\\nConnection: keep-alive\\r\\nx-powered-by: Express\\r\\naccept-ranges: bytes\\r\\ncache-control: public, max-age=0\\r\\nlast-modified: Wed, 30 Oct 2019 11:53:57 GMT\\r\\netag: W/\"599-16e1c83e808\"\\r\\nx-envoy-upstream-service-time: 0\\r\\nserver: istio-envoy\\r\\n\\r\\n'\n",
      "http.title:\"Kubeflow Central Dashboard\" [1] \t - \t 'HTTP/1.1 200 OK\\r\\nDate: Wed, 18 Mar 2020 10:11:05 GMT\\r\\nContent-Type: text/html; charset=UTF-8\\r\\nContent-Length: 1433\\r\\nConnection: keep-alive\\r\\nx-powered-by: Express\\r\\naccept-ranges: bytes\\r\\ncache-control: public, max-age=0\\r\\nlast-modified: Wed, 30 Oct 2019 11:53:57 GMT\\r\\netag: W/\"599-16e1c83e808\"\\r\\nx-envoy-upstream-service-time: 0\\r\\nserver: istio-envoy\\r\\n\\r\\n'\n",
      "http.title:\"Kubeflow Central Dashboard\" [1] \t - \t 'HTTP/1.1 200 OK\\r\\nDate: Thu, 19 Mar 2020 13:00:36 GMT\\r\\nContent-Type: text/html; charset=UTF-8\\r\\nContent-Length: 1433\\r\\nConnection: keep-alive\\r\\nx-powered-by: Express\\r\\naccept-ranges: bytes\\r\\ncache-control: public, max-age=0\\r\\nlast-modified: Wed, 30 Oct 2019 11:53:57 GMT\\r\\netag: W/\"599-16e1c83e808\"\\r\\nx-envoy-upstream-service-time: 0\\r\\nserver: istio-envoy\\r\\n\\r\\n'\n",
      "http.title:\"Kubeflow Central Dashboard\" [1] \t - \t 'HTTP/1.1 200 OK\\r\\nDate: Tue, 17 Mar 2020 20:16:19 GMT\\r\\nContent-Type: text/html; charset=UTF-8\\r\\nContent-Length: 769\\r\\nConnection: keep-alive\\r\\nx-powered-by: Express\\r\\naccept-ranges: bytes\\r\\ncache-control: public, max-age=0\\r\\nlast-modified: Wed, 20 Mar 2019 15:03:51 GMT\\r\\netag: W/\"301-1699ba143d8\"\\r\\nx-envoy-upstream-service-time: 1\\r\\nserver: istio-envoy\\r\\n\\r\\n'\n",
      "http.title:\"Kubeflow Central Dashboard\" [1] \t - \t 'HTTP/1.1 200 OK\\r\\nDate: Mon, 16 Mar 2020 01:55:28 GMT\\r\\nContent-Type: text/html; charset=UTF-8\\r\\nContent-Length: 1433\\r\\nConnection: keep-alive\\r\\nx-powered-by: Express\\r\\naccept-ranges: bytes\\r\\ncache-control: public, max-age=0\\r\\nlast-modified: Wed, 30 Oct 2019 11:53:57 GMT\\r\\netag: W/\"599-16e1c83e808\"\\r\\nx-envoy-upstream-service-time: 1\\r\\nserver: istio-envoy\\r\\n\\r\\n'\n",
      "Cluster [2]:\n",
      "http.title:\"MLflow\" [2] \t - \t 'HTTP/1.1 200 OK\\r\\nServer: gunicorn/20.0.4\\r\\nDate: Sun, 15 Mar 2020 23:09:28 GMT\\r\\nConnection: close\\r\\nContent-Length: 906\\r\\nContent-Type: text/html; charset=utf-8\\r\\nLast-Modified: Tue, 10 Mar 2020 14:42:47 GMT\\r\\nCache-Control: public, max-age=43200\\r\\nExpires: Mon, 16 Mar 2020 11:09:28 GMT\\r\\nETag: \"1583851367.0-906-3330939614\"\\r\\n\\r\\n'\n",
      "http.title:\"MLflow\" [2] \t - \t 'HTTP/1.1 200 OK\\r\\nServer: gunicorn/19.10.0\\r\\nDate: Tue, 17 Mar 2020 05:21:32 GMT\\r\\nConnection: close\\r\\nContent-Length: 853\\r\\nContent-Type: text/html; charset=utf-8\\r\\nLast-Modified: Mon, 06 Jan 2020 08:04:30 GMT\\r\\nCache-Control: public, max-age=43200\\r\\nExpires: Tue, 17 Mar 2020 17:21:32 GMT\\r\\nETag: \"1578297870.61-853-3327597277\"\\r\\nAccept-Ranges: bytes\\r\\n\\r\\n'\n",
      "http.title:\"MLflow\" [2] \t - \t 'HTTP/1.1 200 OK\\r\\nServer: gunicorn/20.0.4\\r\\nDate: Fri, 13 Mar 2020 23:17:04 GMT\\r\\nConnection: close\\r\\nContent-Length: 853\\r\\nContent-Type: text/html; charset=utf-8\\r\\nLast-Modified: Tue, 28 Jan 2020 05:36:43 GMT\\r\\nCache-Control: public, max-age=43200\\r\\nExpires: Sat, 14 Mar 2020 11:17:04 GMT\\r\\nETag: \"1580189803.0-853-3272809169\"\\r\\nAccept-Ranges: bytes\\r\\n\\r\\n'\n",
      "http.title:\"MLflow\" [2] \t - \t 'HTTP/1.1 200 OK\\r\\nDate: Sat, 14 Mar 2020 15:04:32 GMT\\r\\nContent-Type: text/html; charset=utf-8\\r\\nContent-Length: 853\\r\\nConnection: keep-alive\\r\\nServer: gunicorn/20.0.4\\r\\nLast-Modified: Fri, 28 Feb 2020 12:58:59 GMT\\r\\nCache-Control: public, max-age=43200\\r\\nExpires: Sun, 15 Mar 2020 03:04:32 GMT\\r\\nETag: \"1582894739.0-853-3330939614\"\\r\\n\\r\\n'\n",
      "http.title:\"MLflow\" [2] \t - \t 'HTTP/1.1 200 OK\\r\\nServer: gunicorn/19.9.0\\r\\nDate: Mon, 16 Mar 2020 03:11:10 GMT\\r\\nConnection: close\\r\\nContent-Length: 906\\r\\nContent-Type: text/html; charset=utf-8\\r\\nLast-Modified: Fri, 03 Jan 2020 14:02:18 GMT\\r\\nCache-Control: public, max-age=43200\\r\\nExpires: Mon, 16 Mar 2020 15:11:10 GMT\\r\\nETag: \"1578060138.0-906-661919890\"\\r\\nAccept-Ranges: bytes\\r\\n\\r\\n'\n",
      "Cluster [3]:\n",
      "kibana content-length: 217 [3] \t - \t 'HTTP/1.1 200 OK\\r\\nkbn-name: kibana\\r\\nkbn-version: 5.5.0\\r\\ncache-control: no-cache\\r\\ncontent-type: text/html; charset=utf-8\\r\\ncontent-length: 217\\r\\naccept-ranges: bytes\\r\\nvary: accept-encoding\\r\\nDate: Thu, 19 Mar 2020 18:40:03 GMT\\r\\nConnection: keep-alive\\r\\n\\r\\n'\n",
      "kibana content-length: 217 [3] \t - \t 'HTTP/1.1 200 OK\\r\\nkbn-name: kibana\\r\\nkbn-version: 5.6.16\\r\\ncache-control: no-cache\\r\\ncontent-type: text/html; charset=utf-8\\r\\ncontent-length: 217\\r\\naccept-ranges: bytes\\r\\nvary: accept-encoding\\r\\nDate: Thu, 19 Mar 2020 17:42:04 GMT\\r\\nConnection: keep-alive\\r\\n\\r\\n'\n",
      "kibana content-length: 217 [3] \t - \t 'HTTP/1.1 200 OK\\r\\nkbn-name: kibana\\r\\nkbn-version: 6.2.2\\r\\ncache-control: no-cache\\r\\ncontent-type: text/html; charset=utf-8\\r\\ncontent-length: 217\\r\\naccept-ranges: bytes\\r\\nvary: accept-encoding\\r\\nDate: Thu, 19 Mar 2020 19:22:44 GMT\\r\\nConnection: keep-alive\\r\\n\\r\\n'\n",
      "kibana content-length: 217 [3] \t - \t 'HTTP/1.1 200 OK\\r\\nkbn-name: kibana\\r\\nkbn-version: 6.0.0\\r\\ncache-control: no-cache\\r\\ncontent-type: text/html; charset=utf-8\\r\\ncontent-length: 217\\r\\naccept-ranges: bytes\\r\\nvary: accept-encoding\\r\\nDate: Thu, 19 Mar 2020 18:50:21 GMT\\r\\nConnection: keep-alive\\r\\n\\r\\n'\n",
      "kibana content-length: 217 [3] \t - \t 'HTTP/1.1 200 OK\\r\\nkbn-name: kibana\\r\\nkbn-version: 5.6.8\\r\\ncache-control: no-cache\\r\\ncontent-type: text/html; charset=utf-8\\r\\ncontent-length: 217\\r\\naccept-ranges: bytes\\r\\nvary: accept-encoding\\r\\nDate: Thu, 19 Mar 2020 16:34:33 GMT\\r\\n\\r\\n'\n",
      "Cluster [4]:\n",
      "kibana content-length: 217 [4] \t - \t 'HTTP/1.1 200 OK\\r\\nDate: Thu, 19 Mar 2020 16:47:29 GMT\\r\\nServer: Apache/2.4.29 (Ubuntu)\\r\\nkbn-name: kibana\\r\\nkbn-xpack-sig: c100dc7bbe569b44c32b2593b97fe41e\\r\\ncache-control: no-cache\\r\\ncontent-type: text/html; charset=utf-8\\r\\ncontent-length: 217\\r\\naccept-ranges: bytes\\r\\nvary: accept-encoding\\r\\nundefined: undefined\\r\\n\\r\\n'\n",
      "kibana content-length: 217 [4] \t - \t 'HTTP/1.1 200 OK\\r\\nkbn-name: kibana\\r\\nkbn-version: 6.3.0\\r\\nkbn-xpack-sig: 22a04c747bb3c168f2fa68fcf5d24bde\\r\\ncache-control: no-cache\\r\\ncontent-type: text/html; charset=utf-8\\r\\ncontent-length: 217\\r\\naccept-ranges: bytes\\r\\nvary: accept-encoding\\r\\nundefined: undefined\\r\\nDate: Thu, 19 Mar 2020 18:35:53 GMT\\r\\nConnection: keep-alive\\r\\n\\r\\n'\n",
      "kibana content-length: 217 [4] \t - \t 'HTTP/1.1 200 OK\\r\\nkbn-name: kibana\\r\\nkbn-xpack-sig: eb6f83cab4dba469c88380d6e2eb4bba\\r\\ncache-control: no-cache\\r\\ncontent-type: text/html; charset=utf-8\\r\\ncontent-length: 217\\r\\naccept-ranges: bytes\\r\\nvary: accept-encoding\\r\\nundefined: undefined\\r\\nDate: Thu, 19 Mar 2020 19:06:39 GMT\\r\\nConnection: keep-alive\\r\\n\\r\\n'\n",
      "kibana content-length: 217 [4] \t - \t 'HTTP/1.1 200 OK\\r\\nkbn-name: kibana\\r\\nkbn-xpack-sig: 429650f42676be0a39f6169844ca0dab\\r\\ncache-control: no-cache\\r\\ncontent-type: text/html; charset=utf-8\\r\\ncontent-length: 217\\r\\naccept-ranges: bytes\\r\\nvary: accept-encoding\\r\\nundefined: undefined\\r\\nDate: Thu, 19 Mar 2020 16:55:42 GMT\\r\\nConnection: keep-alive\\r\\n\\r\\n'\n",
      "kibana content-length: 217 [4] \t - \t 'HTTP/1.1 200 OK\\r\\nkbn-name: kibana\\r\\nkbn-version: 6.3.0\\r\\ncache-control: no-cache\\r\\ncontent-type: text/html; charset=utf-8\\r\\ncontent-length: 217\\r\\naccept-ranges: bytes\\r\\nvary: accept-encoding\\r\\nundefined: undefined\\r\\nDate: Thu, 19 Mar 2020 17:00:41 GMT\\r\\nConnection: keep-alive\\r\\n\\r\\n'\n"
     ]
    }
   ],
   "source": [
    "# Print example samples from clusters\n",
    "print(\" ---\\nExamples from clusters directly\\n --- \")\n",
    "direct_examples = {}\n",
    "for class_name, class_hosts in raw_results.items():\n",
    "    for host_data in class_hosts:\n",
    "        processed_host = http_parser.process_headers(host_data)\n",
    "        cluster_index = cluster.predict(processed_host)[0]\n",
    "        if cluster_index not in direct_examples.keys():\n",
    "            direct_examples[cluster_index] = []\n",
    "        else:\n",
    "            direct_examples[cluster_index].append(\n",
    "                {\"class_name\": class_name, \"data\": host_data}\n",
    "            )\n",
    "direct_examples = {\n",
    "    key: direct_examples[key] for key in sorted(direct_examples.keys())\n",
    "}\n",
    "for index, hosts in direct_examples.items():\n",
    "    print(f\"Cluster [{index}]:\")\n",
    "    for host in hosts[:5]:\n",
    "        print(\n",
    "            host.get(\"class_name\"), f\"[{index}]\", \"\\t - \\t\", repr(host.get(\"data\"))\n",
    "        )"
   ]
  }
 ],
 "metadata": {
  "kernelspec": {
   "display_name": "Python 3",
   "language": "python",
   "name": "python3"
  },
  "language_info": {
   "codemirror_mode": {
    "name": "ipython",
    "version": 3
   },
   "file_extension": ".py",
   "mimetype": "text/x-python",
   "name": "python",
   "nbconvert_exporter": "python",
   "pygments_lexer": "ipython3",
   "version": "3.7.7"
  }
 },
 "nbformat": 4,
 "nbformat_minor": 4
}
