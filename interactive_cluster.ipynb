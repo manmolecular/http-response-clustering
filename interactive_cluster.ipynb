{
 "cells": [
  {
   "cell_type": "code",
   "execution_count": 1,
   "metadata": {},
   "outputs": [],
   "source": [
    "# Import libraries and dependencies\n",
    "from copy import deepcopy\n",
    "from typing import Tuple, List, Dict\n",
    "\n",
    "from cluster.cluster import CustomCluster\n",
    "from configurations.default_values import (\n",
    "    DefaultQueries,\n",
    "    DefaultShodanValues,\n",
    "    DefaultValues,\n",
    ")\n",
    "from handlers.files_handler import FilesHandler\n",
    "from handlers.shodan_handler import ShodanHandler\n",
    "from helpers.tools import Tools\n",
    "from parsers.http_parser import HttpParser"
   ]
  },
  {
   "cell_type": "code",
   "execution_count": 2,
   "metadata": {},
   "outputs": [],
   "source": [
    "# Create cluster\n",
    "raw_results = FilesHandler().open_results(filename=DefaultValues.DATA_FILE)\n",
    "http_parser = HttpParser(\n",
    "    process_cookie=True,\n",
    "    process_trash_headers=True,\n",
    "    remove_digits=True,\n",
    "    remove_special=True,\n",
    ")\n",
    "prepared_results = Tools.process_data(deepcopy(raw_results), http_parser)\n",
    "\n",
    "cluster = CustomCluster(prepared_results)\n",
    "cluster.prepare_matrix()"
   ]
  },
  {
   "cell_type": "code",
   "execution_count": 3,
   "metadata": {},
   "outputs": [
    {
     "name": "stdout",
     "output_type": "stream",
     "text": [
      "Calculate results for 1 clusters\n",
      "Calculate results for 2 clusters\n",
      "Calculate results for 3 clusters\n",
      "Calculate results for 4 clusters\n",
      "Calculate results for 5 clusters\n",
      "Calculate results for 6 clusters\n",
      "Calculate results for 7 clusters\n",
      "Calculate results for 8 clusters\n",
      "Calculate results for 9 clusters\n"
     ]
    },
    {
     "data": {
      "image/png": "[encoded data removed]",
      "text/plain": [
       "<Figure size 432x288 with 1 Axes>"
      ]
     },
     "metadata": {
      "needs_background": "light"
     },
     "output_type": "display_data"
    }
   ],
   "source": [
    "# Determine quantity of cluster with the Elbow method\n",
    "cluster.determine_k(k_range=(1, 10))"
   ]
  },
  {
   "cell_type": "code",
   "execution_count": null,
   "metadata": {},
   "outputs": [
    {
     "name": "stdout",
     "output_type": "stream",
     "text": [
      "Current cluster: 2, silhouette score: 0.7153906264146654\n",
      "Current cluster: 3, silhouette score: 0.805620829044585\n",
      "Current cluster: 4, silhouette score: 0.8384322879980213\n",
      "Current cluster: 5, silhouette score: 0.8232291272554404\n",
      "Current cluster: 6, silhouette score: 0.826513941158198\n",
      "Current cluster: 7, silhouette score: 0.8211850082266298\n"
     ]
    }
   ],
   "source": [
    "# Use also the Silhouette score method\n",
    "_clusters_q = cluster.calculate_silhouette_score(k_range=(2, 10))\n",
    "cluster.make_cluster(clusters_q=_clusters_q)"
   ]
  },
  {
   "cell_type": "code",
   "execution_count": null,
   "metadata": {},
   "outputs": [],
   "source": [
    "# Print example samples from clusters\n",
    "print(\" ---\\nExamples from clusters directly\\n --- \")\n",
    "direct_examples = {}\n",
    "for class_name, class_hosts in raw_results.items():\n",
    "    for host_data in class_hosts:\n",
    "        processed_host = http_parser.process_headers(host_data)\n",
    "        cluster_index = cluster.predict(processed_host)[0]\n",
    "        if cluster_index not in direct_examples.keys():\n",
    "            direct_examples[cluster_index] = []\n",
    "        else:\n",
    "            direct_examples[cluster_index].append(\n",
    "                {\"class_name\": class_name, \"data\": host_data}\n",
    "            )\n",
    "direct_examples = {\n",
    "    key: direct_examples[key] for key in sorted(direct_examples.keys())\n",
    "}\n",
    "for index, hosts in direct_examples.items():\n",
    "    print(f\"Cluster [{index}]:\")\n",
    "    for host in hosts[:5]:\n",
    "        print(\n",
    "            host.get(\"class_name\"), f\"[{index}]\", \"\\t - \\t\", repr(host.get(\"data\"))\n",
    "        )"
   ]
  }
 ],
 "metadata": {
  "kernelspec": {
   "display_name": "Python 3",
   "language": "python",
   "name": "python3"
  },
  "language_info": {
   "codemirror_mode": {
    "name": "ipython",
    "version": 3
   },
   "file_extension": ".py",
   "mimetype": "text/x-python",
   "name": "python",
   "nbconvert_exporter": "python",
   "pygments_lexer": "ipython3",
   "version": "3.7.7"
  }
 },
 "nbformat": 4,
 "nbformat_minor": 4
}
