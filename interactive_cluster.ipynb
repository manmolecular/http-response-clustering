{
 "cells": [
  {
   "cell_type": "code",
   "execution_count": 1,
   "metadata": {},
   "outputs": [],
   "source": [
    "#!/usr/bin/env python3\n",
    "from cluster.api.cluster_api import ClusteringAPI"
   ]
  },
  {
   "cell_type": "code",
   "execution_count": 2,
   "metadata": {},
   "outputs": [],
   "source": [
    "# Define HTTP parser configuration\n",
    "class CustomConfiguration:\n",
    "    HTTP_PARSER_CONFIG: dict = {\n",
    "        \"process_cookie\": True,\n",
    "        \"process_trash_headers\": True,\n",
    "        \"remove_digits\": True,\n",
    "        \"remove_special\": True\n",
    "    }"
   ]
  },
  {
   "cell_type": "code",
   "execution_count": 3,
   "metadata": {},
   "outputs": [],
   "source": [
    "# Initialize clustering API\n",
    "hosts_cluster = ClusteringAPI(\n",
    "    default_range=(1, 10),\n",
    "    http_parser_config=CustomConfiguration.HTTP_PARSER_CONFIG\n",
    ")"
   ]
  },
  {
   "cell_type": "code",
   "execution_count": 4,
   "metadata": {},
   "outputs": [],
   "source": [
    "# Create cluster, prepare matrix and other data\n",
    "hosts_cluster.prepare_clusters(input_file=\"data/hosts_aisec.json\")"
   ]
  },
  {
   "cell_type": "code",
   "execution_count": 5,
   "metadata": {},
   "outputs": [
    {
     "name": "stdout",
     "output_type": "stream",
     "text": [
      "Calculate results for 1 clusters\n",
      "Calculate results for 2 clusters\n",
      "Calculate results for 3 clusters\n",
      "Calculate results for 4 clusters\n",
      "Calculate results for 5 clusters\n",
      "Calculate results for 6 clusters\n",
      "Calculate results for 7 clusters\n",
      "Calculate results for 8 clusters\n",
      "Calculate results for 9 clusters\n"
     ]
    },
    {
     "data": {
      "image/png": "[encoded data removed]",
      "text/plain": [
       "<Figure size 432x288 with 1 Axes>"
      ]
     },
     "metadata": {
      "needs_background": "light"
     },
     "output_type": "display_data"
    }
   ],
   "source": [
    "# Create plots with the Elbow method to visualize possible clusters\n",
    "hosts_cluster.create_plot()"
   ]
  },
  {
   "cell_type": "code",
   "execution_count": 6,
   "metadata": {},
   "outputs": [
    {
     "name": "stdout",
     "output_type": "stream",
     "text": [
      "Current cluster: 2, silhouette score: 0.7153906264306064 (current best K: 2)\n",
      "Current cluster: 3, silhouette score: 0.8056208251828991 (current best K: 3)\n",
      "Current cluster: 4, silhouette score: 0.8384322880050202 (current best K: 4)\n",
      "Current cluster: 5, silhouette score: 0.8232291328660564 (current best K: 4)\n",
      "Current cluster: 6, silhouette score: 0.8266280421416572 (current best K: 4)\n",
      "Current cluster: 7, silhouette score: 0.8306727940051093 (current best K: 4)\n",
      "Current cluster: 8, silhouette score: 0.829706251013551 (current best K: 4)\n",
      "Current cluster: 9, silhouette score: 0.8377456423351488 (current best K: 4)\n",
      "The best K number is: 4\n"
     ]
    }
   ],
   "source": [
    "# Calculate Silhouette score and determine the best K number\n",
    "hosts_cluster.calculate_silhouette_score()"
   ]
  },
  {
   "cell_type": "code",
   "execution_count": 7,
   "metadata": {},
   "outputs": [
    {
     "name": "stdout",
     "output_type": "stream",
     "text": [
      "Current cluster: 0\n",
      "['envoy', 'upstream', 'service', 'time', 'express', 'powered', 'istio', 'randomvaluelastmodified', 'etag', 'public', 'modified', 'randomvalueetag', 'age', 'max', 'content', 'server', 'utf', 'charset', 'accept', 'bytes']\n",
      "Current cluster: 1\n",
      "['kbn', 'cache', 'content', 'accept', 'version', 'kibana', 'vary', 'encoding', 'alive', 'ranges', 'bytes', 'randomvaluecontentlength', 'control', 'ok', 'type', 'date', 'text', 'randomvaluedate', 'charset', 'utf']\n",
      "Current cluster: 2\n",
      "['kbn', 'xpack', 'sig', 'cache', 'content', 'accept', 'undefined', 'encoding', 'vary', 'kibana', 'alive', 'bytes', 'ranges', 'charset', 'utf', 'control', 'type', 'randomvaluedate', 'date', 'text']\n",
      "Current cluster: 3\n",
      "['randomvalueexpires', 'expires', 'gunicorn', 'close', 'randomvalueetag', 'etag', 'randomvaluelastmodified', 'modified', 'public', 'age', 'max', 'content', 'server', 'charset', 'utf', 'control', 'cache', 'randomvaluecontentlength', 'ok', 'type']\n"
     ]
    }
   ],
   "source": [
    "# Calculate final clusters\n",
    "hosts_cluster.calculate_clusters()\n",
    "predictions_per_index = hosts_cluster.predict_clusters()"
   ]
  },
  {
   "cell_type": "code",
   "execution_count": 8,
   "metadata": {},
   "outputs": [
    {
     "name": "stdout",
     "output_type": "stream",
     "text": [
      " ---\n",
      "Examples from clusters directly\n",
      " --- \n",
      "Cluster [0]:\n",
      "http.title:\"Kubeflow Central Dashboard\" [0] \t - \t 'HTTP/1.1 200 OK\\r\\nDate: Thu, 19 Mar 2020 15:56:42 GMT\\r\\nContent-Type: text/html; charset=UTF-8\\r\\nContent-Length: 1433\\r\\nConnection: keep-alive\\r\\nx-powered-by: Express\\r\\naccept-ranges: bytes\\r\\ncache-control: public, max-age=0\\r\\nlast-modified: Wed, 30 Oct 2019 11:53:57 GMT\\r\\netag: W/\"599-16e1c83e808\"\\r\\nx-envoy-upstream-service-time: 0\\r\\nserver: istio-envoy\\r\\n\\r\\n'\n",
      "http.title:\"Kubeflow Central Dashboard\" [0] \t - \t 'HTTP/1.1 200 OK\\r\\nDate: Wed, 18 Mar 2020 10:11:05 GMT\\r\\nContent-Type: text/html; charset=UTF-8\\r\\nContent-Length: 1433\\r\\nConnection: keep-alive\\r\\nx-powered-by: Express\\r\\naccept-ranges: bytes\\r\\ncache-control: public, max-age=0\\r\\nlast-modified: Wed, 30 Oct 2019 11:53:57 GMT\\r\\netag: W/\"599-16e1c83e808\"\\r\\nx-envoy-upstream-service-time: 0\\r\\nserver: istio-envoy\\r\\n\\r\\n'\n",
      "http.title:\"Kubeflow Central Dashboard\" [0] \t - \t 'HTTP/1.1 200 OK\\r\\nDate: Thu, 19 Mar 2020 13:00:36 GMT\\r\\nContent-Type: text/html; charset=UTF-8\\r\\nContent-Length: 1433\\r\\nConnection: keep-alive\\r\\nx-powered-by: Express\\r\\naccept-ranges: bytes\\r\\ncache-control: public, max-age=0\\r\\nlast-modified: Wed, 30 Oct 2019 11:53:57 GMT\\r\\netag: W/\"599-16e1c83e808\"\\r\\nx-envoy-upstream-service-time: 0\\r\\nserver: istio-envoy\\r\\n\\r\\n'\n",
      "http.title:\"Kubeflow Central Dashboard\" [0] \t - \t 'HTTP/1.1 200 OK\\r\\nDate: Tue, 17 Mar 2020 20:16:19 GMT\\r\\nContent-Type: text/html; charset=UTF-8\\r\\nContent-Length: 769\\r\\nConnection: keep-alive\\r\\nx-powered-by: Express\\r\\naccept-ranges: bytes\\r\\ncache-control: public, max-age=0\\r\\nlast-modified: Wed, 20 Mar 2019 15:03:51 GMT\\r\\netag: W/\"301-1699ba143d8\"\\r\\nx-envoy-upstream-service-time: 1\\r\\nserver: istio-envoy\\r\\n\\r\\n'\n",
      "http.title:\"Kubeflow Central Dashboard\" [0] \t - \t 'HTTP/1.1 200 OK\\r\\nDate: Mon, 16 Mar 2020 01:55:28 GMT\\r\\nContent-Type: text/html; charset=UTF-8\\r\\nContent-Length: 1433\\r\\nConnection: keep-alive\\r\\nx-powered-by: Express\\r\\naccept-ranges: bytes\\r\\ncache-control: public, max-age=0\\r\\nlast-modified: Wed, 30 Oct 2019 11:53:57 GMT\\r\\netag: W/\"599-16e1c83e808\"\\r\\nx-envoy-upstream-service-time: 1\\r\\nserver: istio-envoy\\r\\n\\r\\n'\n",
      "Cluster [1]:\n",
      "kibana content-length: 217 [1] \t - \t 'HTTP/1.1 200 OK\\r\\nkbn-name: kibana\\r\\nkbn-version: 5.5.0\\r\\ncache-control: no-cache\\r\\ncontent-type: text/html; charset=utf-8\\r\\ncontent-length: 217\\r\\naccept-ranges: bytes\\r\\nvary: accept-encoding\\r\\nDate: Thu, 19 Mar 2020 18:40:03 GMT\\r\\nConnection: keep-alive\\r\\n\\r\\n'\n",
      "kibana content-length: 217 [1] \t - \t 'HTTP/1.1 200 OK\\r\\nkbn-name: kibana\\r\\nkbn-version: 5.6.16\\r\\ncache-control: no-cache\\r\\ncontent-type: text/html; charset=utf-8\\r\\ncontent-length: 217\\r\\naccept-ranges: bytes\\r\\nvary: accept-encoding\\r\\nDate: Thu, 19 Mar 2020 17:42:04 GMT\\r\\nConnection: keep-alive\\r\\n\\r\\n'\n",
      "kibana content-length: 217 [1] \t - \t 'HTTP/1.1 200 OK\\r\\nkbn-name: kibana\\r\\nkbn-version: 6.2.2\\r\\ncache-control: no-cache\\r\\ncontent-type: text/html; charset=utf-8\\r\\ncontent-length: 217\\r\\naccept-ranges: bytes\\r\\nvary: accept-encoding\\r\\nDate: Thu, 19 Mar 2020 19:22:44 GMT\\r\\nConnection: keep-alive\\r\\n\\r\\n'\n",
      "kibana content-length: 217 [1] \t - \t 'HTTP/1.1 200 OK\\r\\nkbn-name: kibana\\r\\nkbn-version: 6.0.0\\r\\ncache-control: no-cache\\r\\ncontent-type: text/html; charset=utf-8\\r\\ncontent-length: 217\\r\\naccept-ranges: bytes\\r\\nvary: accept-encoding\\r\\nDate: Thu, 19 Mar 2020 18:50:21 GMT\\r\\nConnection: keep-alive\\r\\n\\r\\n'\n",
      "kibana content-length: 217 [1] \t - \t 'HTTP/1.1 200 OK\\r\\nkbn-name: kibana\\r\\nkbn-version: 5.6.8\\r\\ncache-control: no-cache\\r\\ncontent-type: text/html; charset=utf-8\\r\\ncontent-length: 217\\r\\naccept-ranges: bytes\\r\\nvary: accept-encoding\\r\\nDate: Thu, 19 Mar 2020 16:34:33 GMT\\r\\n\\r\\n'\n",
      "Cluster [2]:\n",
      "kibana content-length: 217 [2] \t - \t 'HTTP/1.1 200 OK\\r\\nkbn-name: kibana\\r\\nkbn-version: 6.3.2\\r\\nkbn-xpack-sig: 5848fb4b2ce9ae3165947b2fd68ee15d\\r\\ncache-control: no-cache\\r\\ncontent-type: text/html; charset=utf-8\\r\\ncontent-length: 217\\r\\naccept-ranges: bytes\\r\\nvary: accept-encoding\\r\\nDate: Thu, 19 Mar 2020 18:35:39 GMT\\r\\nConnection: keep-alive\\r\\n\\r\\n'\n",
      "kibana content-length: 217 [2] \t - \t 'HTTP/1.1 200 OK\\r\\nkbn-name: kibana\\r\\nkbn-xpack-sig: d7d9495e15dee3ff1ebff513bee1c207\\r\\ncache-control: no-cache\\r\\ncontent-type: text/html; charset=utf-8\\r\\ncontent-length: 217\\r\\naccept-ranges: bytes\\r\\nvary: accept-encoding\\r\\nundefined: undefined\\r\\nDate: Thu, 19 Mar 2020 19:08:57 GMT\\r\\nConnection: keep-alive\\r\\n\\r\\n'\n",
      "kibana content-length: 217 [2] \t - \t 'HTTP/1.1 200 OK\\r\\nkbn-name: kibana\\r\\nkbn-version: 6.2.3\\r\\nkbn-xpack-sig: b32d689ffa8cedcdb4ab879cd91bb690\\r\\ncache-control: no-cache\\r\\ncontent-type: text/html; charset=utf-8\\r\\ncontent-length: 217\\r\\naccept-ranges: bytes\\r\\nvary: accept-encoding\\r\\nDate: Thu, 19 Mar 2020 17:44:31 GMT\\r\\nConnection: keep-alive\\r\\n\\r\\n'\n",
      "kibana content-length: 217 [2] \t - \t 'HTTP/1.1 200 OK\\r\\nkbn-name: kibana\\r\\nkbn-version: 6.3.0\\r\\nkbn-xpack-sig: 84d56b47ba5ee583a8a8511986a9e7fa\\r\\ncache-control: no-cache\\r\\ncontent-type: text/html; charset=utf-8\\r\\ncontent-length: 217\\r\\naccept-ranges: bytes\\r\\nvary: accept-encoding\\r\\nDate: Thu, 19 Mar 2020 17:08:25 GMT\\r\\nConnection: keep-alive\\r\\n\\r\\n'\n",
      "kibana content-length: 217 [2] \t - \t 'HTTP/1.1 200 OK\\r\\nkbn-name: kibana\\r\\nkbn-version: 6.2.2\\r\\nkbn-xpack-sig: 4bdbe0198f13b67f74c483ee6d1e56e1\\r\\ncache-control: no-cache\\r\\ncontent-type: text/html; charset=utf-8\\r\\ncontent-length: 217\\r\\naccept-ranges: bytes\\r\\nvary: accept-encoding\\r\\nDate: Thu, 19 Mar 2020 18:32:49 GMT\\r\\nConnection: keep-alive\\r\\n\\r\\n'\n",
      "Cluster [3]:\n",
      "http.title:\"MLflow\" [3] \t - \t 'HTTP/1.1 200 OK\\r\\nServer: gunicorn/20.0.4\\r\\nDate: Sun, 15 Mar 2020 23:09:28 GMT\\r\\nConnection: close\\r\\nContent-Length: 906\\r\\nContent-Type: text/html; charset=utf-8\\r\\nLast-Modified: Tue, 10 Mar 2020 14:42:47 GMT\\r\\nCache-Control: public, max-age=43200\\r\\nExpires: Mon, 16 Mar 2020 11:09:28 GMT\\r\\nETag: \"1583851367.0-906-3330939614\"\\r\\n\\r\\n'\n",
      "http.title:\"MLflow\" [3] \t - \t 'HTTP/1.1 200 OK\\r\\nServer: gunicorn/19.10.0\\r\\nDate: Tue, 17 Mar 2020 05:21:32 GMT\\r\\nConnection: close\\r\\nContent-Length: 853\\r\\nContent-Type: text/html; charset=utf-8\\r\\nLast-Modified: Mon, 06 Jan 2020 08:04:30 GMT\\r\\nCache-Control: public, max-age=43200\\r\\nExpires: Tue, 17 Mar 2020 17:21:32 GMT\\r\\nETag: \"1578297870.61-853-3327597277\"\\r\\nAccept-Ranges: bytes\\r\\n\\r\\n'\n",
      "http.title:\"MLflow\" [3] \t - \t 'HTTP/1.1 200 OK\\r\\nServer: gunicorn/20.0.4\\r\\nDate: Fri, 13 Mar 2020 23:17:04 GMT\\r\\nConnection: close\\r\\nContent-Length: 853\\r\\nContent-Type: text/html; charset=utf-8\\r\\nLast-Modified: Tue, 28 Jan 2020 05:36:43 GMT\\r\\nCache-Control: public, max-age=43200\\r\\nExpires: Sat, 14 Mar 2020 11:17:04 GMT\\r\\nETag: \"1580189803.0-853-3272809169\"\\r\\nAccept-Ranges: bytes\\r\\n\\r\\n'\n",
      "http.title:\"MLflow\" [3] \t - \t 'HTTP/1.1 200 OK\\r\\nDate: Sat, 14 Mar 2020 15:04:32 GMT\\r\\nContent-Type: text/html; charset=utf-8\\r\\nContent-Length: 853\\r\\nConnection: keep-alive\\r\\nServer: gunicorn/20.0.4\\r\\nLast-Modified: Fri, 28 Feb 2020 12:58:59 GMT\\r\\nCache-Control: public, max-age=43200\\r\\nExpires: Sun, 15 Mar 2020 03:04:32 GMT\\r\\nETag: \"1582894739.0-853-3330939614\"\\r\\n\\r\\n'\n",
      "http.title:\"MLflow\" [3] \t - \t 'HTTP/1.1 200 OK\\r\\nServer: gunicorn/19.9.0\\r\\nDate: Mon, 16 Mar 2020 03:11:10 GMT\\r\\nConnection: close\\r\\nContent-Length: 906\\r\\nContent-Type: text/html; charset=utf-8\\r\\nLast-Modified: Fri, 03 Jan 2020 14:02:18 GMT\\r\\nCache-Control: public, max-age=43200\\r\\nExpires: Mon, 16 Mar 2020 15:11:10 GMT\\r\\nETag: \"1578060138.0-906-661919890\"\\r\\nAccept-Ranges: bytes\\r\\n\\r\\n'\n",
      " ---\n",
      "Examples from random choice\n",
      " --- \n",
      "kibana content-length: 217 [2] \t - \t 'HTTP/1.1 200 OK\\r\\nkbn-name: kibana\\r\\nkbn-version: 6.3.2\\r\\nkbn-xpack-sig: 10e578164894e350dae6bcbe02954198\\r\\ncache-control: no-cache\\r\\ncontent-type: text/html; charset=utf-8\\r\\ncontent-length: 217\\r\\naccept-ranges: bytes\\r\\nvary: accept-encoding\\r\\nundefined: undefined\\r\\nDate: Tue, 17 Mar 2020 23:26:28 GMT\\r\\nConnection: keep-alive\\r\\n\\r\\n'\n",
      "kibana content-length: 217 [1] \t - \t 'HTTP/1.1 200 OK\\r\\nkbn-name: kibana\\r\\nkbn-version: 5.6.16\\r\\ncache-control: no-cache\\r\\ncontent-type: text/html; charset=utf-8\\r\\ncontent-length: 217\\r\\naccept-ranges: bytes\\r\\nvary: accept-encoding\\r\\nDate: Mon, 16 Mar 2020 21:28:08 GMT\\r\\nConnection: keep-alive\\r\\n\\r\\n'\n",
      "kibana content-length: 217 [1] \t - \t 'HTTP/1.1 200 OK\\r\\nkbn-name: kibana\\r\\nkbn-version: 4.6.4\\r\\ncache-control: no-cache\\r\\ncontent-type: text/html; charset=utf-8\\r\\ncontent-length: 217\\r\\naccept-ranges: bytes\\r\\nvary: accept-encoding\\r\\nDate: Wed, 18 Mar 2020 03:42:58 GMT\\r\\nConnection: keep-alive\\r\\n\\r\\n'\n",
      "kibana content-length: 217 [1] \t - \t 'HTTP/1.1 200 OK\\r\\nkbn-name: kibana\\r\\nkbn-version: 5.6.16\\r\\ncache-control: no-cache\\r\\ncontent-type: text/html; charset=utf-8\\r\\ncontent-length: 217\\r\\naccept-ranges: bytes\\r\\nvary: accept-encoding\\r\\nDate: Tue, 17 Mar 2020 12:49:12 GMT\\r\\nConnection: keep-alive\\r\\n\\r\\n'\n",
      "kibana content-length: 217 [1] \t - \t 'HTTP/1.1 200 OK\\r\\nkbn-name: kibana\\r\\nkbn-version: 6.1.1\\r\\ncache-control: no-cache\\r\\ncontent-type: text/html; charset=utf-8\\r\\ncontent-length: 217\\r\\naccept-ranges: bytes\\r\\nvary: accept-encoding\\r\\nDate: Wed, 18 Mar 2020 04:16:57 GMT\\r\\nConnection: keep-alive\\r\\n\\r\\n'\n",
      "kibana content-length: 217 [1] \t - \t 'HTTP/1.1 200 OK\\r\\nServer: nginx\\r\\nDate: Tue, 17 Mar 2020 22:17:21 GMT\\r\\nContent-Type: text/html; charset=utf-8\\r\\nContent-Length: 217\\r\\nConnection: keep-alive\\r\\nkbn-name: kibana\\r\\nkbn-version: 6.2.4\\r\\ncache-control: no-cache\\r\\naccept-ranges: bytes\\r\\nvary: accept-encoding\\r\\n\\r\\n'\n",
      "kibana content-length: 217 [2] \t - \t 'HTTP/1.1 200 OK\\r\\nkbn-name: kibana\\r\\nkbn-version: 6.3.2\\r\\nkbn-xpack-sig: c7d5c304e3e7b6345b143157318cf1b6\\r\\ncache-control: no-cache\\r\\ncontent-type: text/html; charset=utf-8\\r\\ncontent-length: 217\\r\\naccept-ranges: bytes\\r\\nvary: accept-encoding\\r\\nDate: Thu, 19 Mar 2020 13:23:44 GMT\\r\\nConnection: keep-alive\\r\\n\\r\\n'\n",
      "kibana content-length: 217 [2] \t - \t 'HTTP/1.1 200 OK\\r\\nkbn-name: kibana\\r\\nkbn-version: 5.5.1\\r\\nkbn-xpack-sig: 1da82f67b510dc544db2a711a81a31c2\\r\\ncache-control: no-cache\\r\\ncontent-type: text/html; charset=utf-8\\r\\ncontent-length: 217\\r\\naccept-ranges: bytes\\r\\nvary: accept-encoding\\r\\nDate: Thu, 19 Mar 2020 03:10:01 GMT\\r\\nConnection: keep-alive\\r\\n\\r\\n'\n",
      "kibana content-length: 217 [1] \t - \t 'HTTP/1.1 200 OK\\r\\nkbn-name: kibana\\r\\nkbn-version: 5.6.5\\r\\ncache-control: no-cache\\r\\ncontent-type: text/html; charset=utf-8\\r\\ncontent-length: 217\\r\\naccept-ranges: bytes\\r\\nvary: accept-encoding\\r\\nDate: Tue, 17 Mar 2020 21:39:01 GMT\\r\\nConnection: keep-alive\\r\\n\\r\\n'\n",
      "kibana content-length: 217 [1] \t - \t 'HTTP/1.1 200 OK\\r\\nkbn-name: kibana\\r\\nkbn-version: 6.0.0\\r\\ncache-control: no-cache\\r\\ncontent-type: text/html; charset=utf-8\\r\\ncontent-length: 217\\r\\naccept-ranges: bytes\\r\\nvary: accept-encoding\\r\\nDate: Wed, 18 Mar 2020 11:47:12 GMT\\r\\nConnection: keep-alive\\r\\n\\r\\n'\n",
      "http.title:\"MLflow\" [3] \t - \t 'HTTP/1.1 200 OK\\r\\nServer: nginx/1.14.0 (Ubuntu)\\r\\nDate: Thu, 19 Mar 2020 10:52:42 GMT\\r\\nContent-Type: text/html; charset=utf-8\\r\\nContent-Length: 853\\r\\nConnection: keep-alive\\r\\nLast-Modified: Thu, 05 Mar 2020 20:16:13 GMT\\r\\nCache-Control: public, max-age=43200\\r\\nExpires: Thu, 19 Mar 2020 22:52:42 GMT\\r\\nETag: \"1583439373.1329813-853-1340284889\"\\r\\n\\r\\n'\n",
      "http.title:\"MLflow\" [3] \t - \t 'HTTP/1.1 200 OK\\r\\nServer: bc-mlflow-tracking-server\\r\\nDate: Sat, 07 Mar 2020 01:39:11 GMT\\r\\nContent-Length: 906\\r\\nContent-Type: text/html; charset=utf-8\\r\\nLast-Modified: Tue, 26 Nov 2019 01:45:50 GMT\\r\\nCache-Control: public, max-age=43200\\r\\nExpires: Sat, 07 Mar 2020 13:39:11 GMT\\r\\nETag: \"1574732750.0-906-3330939614\"\\r\\nAccept-Ranges: bytes\\r\\nAccess-Control-Allow-Origin: *\\r\\n\\r\\n'\n",
      "http.title:\"MLflow\" [3] \t - \t 'HTTP/1.1 200 OK\\r\\nServer: gunicorn/19.10.0\\r\\nDate: Thu, 19 Mar 2020 00:53:05 GMT\\r\\nConnection: close\\r\\nContent-Length: 853\\r\\nContent-Type: text/html; charset=utf-8\\r\\nLast-Modified: Fri, 07 Feb 2020 09:48:01 GMT\\r\\nCache-Control: public, max-age=43200\\r\\nExpires: Thu, 19 Mar 2020 12:53:05 GMT\\r\\nETag: \"1581068881.23-853-3321699036\"\\r\\n\\r\\n'\n",
      "http.title:\"MLflow\" [3] \t - \t 'HTTP/1.1 200 OK\\r\\nServer: gunicorn/20.0.4\\r\\nDate: Tue, 03 Mar 2020 00:15:52 GMT\\r\\nConnection: close\\r\\nContent-Length: 906\\r\\nContent-Type: text/html; charset=utf-8\\r\\nLast-Modified: Tue, 10 Dec 2019 13:00:53 GMT\\r\\nCache-Control: public, max-age=43200\\r\\nExpires: Tue, 03 Mar 2020 12:15:52 GMT\\r\\nETag: \"1575982853.8011024-906-4047119475\"\\r\\nAccept-Ranges: bytes\\r\\n\\r\\n'\n",
      "http.title:\"MLflow\" [3] \t - \t 'HTTP/1.1 200 OK\\r\\nServer: gunicorn/19.9.0\\r\\nDate: Sat, 07 Mar 2020 12:45:09 GMT\\r\\nConnection: close\\r\\nContent-Length: 906\\r\\nContent-Type: text/html; charset=utf-8\\r\\nLast-Modified: Fri, 26 Apr 2019 15:44:48 GMT\\r\\nCache-Control: public, max-age=43200\\r\\nExpires: Sun, 08 Mar 2020 00:45:09 GMT\\r\\nETag: \"1556293488.9117796-906-3272809169\"\\r\\nAccept-Ranges: bytes\\r\\n\\r\\n'\n",
      "http.title:\"MLflow\" [3] \t - \t 'HTTP/1.1 200 OK\\r\\nServer: gunicorn/20.0.0\\r\\nDate: Sat, 14 Mar 2020 17:05:07 GMT\\r\\nConnection: close\\r\\nContent-Length: 906\\r\\nContent-Type: text/html; charset=utf-8\\r\\nLast-Modified: Mon, 18 Nov 2019 22:00:25 GMT\\r\\nCache-Control: public, max-age=43200\\r\\nExpires: Sun, 15 Mar 2020 05:05:07 GMT\\r\\nETag: \"1574114425.6606395-906-3318618843\"\\r\\nAccept-Ranges: bytes\\r\\n\\r\\n'\n",
      "http.title:\"MLflow\" [3] \t - \t 'HTTP/1.1 200 OK\\r\\nServer: gunicorn/19.9.0\\r\\nDate: Mon, 16 Mar 2020 23:32:45 GMT\\r\\nConnection: close\\r\\nContent-Length: 906\\r\\nContent-Type: text/html; charset=utf-8\\r\\nLast-Modified: Mon, 29 Jul 2019 11:21:05 GMT\\r\\nCache-Control: max-age=43200, public\\r\\nExpires: Tue, 17 Mar 2020 11:32:45 GMT\\r\\nETag: \"1564399265.6965904-906-3690274435\"\\r\\nAccept-Ranges: bytes\\r\\n\\r\\n'\n",
      "http.title:\"MLflow\" [3] \t - \t 'HTTP/1.1 200 OK\\r\\nServer: gunicorn/19.7.1\\r\\nDate: Fri, 28 Feb 2020 01:58:10 GMT\\r\\nConnection: close\\r\\nContent-Length: 906\\r\\nContent-Type: text/html; charset=utf-8\\r\\nLast-Modified: Thu, 11 Apr 2019 15:57:05 GMT\\r\\nCache-Control: public, max-age=43200\\r\\nExpires: Fri, 28 Feb 2020 13:58:10 GMT\\r\\nETag: \"1554998225.0-906-3321699036\"\\r\\nAccept-Ranges: bytes\\r\\n\\r\\n'\n",
      "http.title:\"MLflow\" [3] \t - \t 'HTTP/1.1 200 OK\\r\\nServer: gunicorn/20.0.2\\r\\nDate: Wed, 18 Mar 2020 07:41:56 GMT\\r\\nConnection: close\\r\\nContent-Length: 906\\r\\nContent-Type: text/html; charset=utf-8\\r\\nLast-Modified: Sun, 24 Nov 2019 10:08:37 GMT\\r\\nCache-Control: public, max-age=43200\\r\\nExpires: Wed, 18 Mar 2020 19:41:56 GMT\\r\\nETag: \"1574590117.0-906-3330939614\"\\r\\nAccept-Ranges: bytes\\r\\n\\r\\n'\n",
      "http.title:\"MLflow\" [3] \t - \t 'HTTP/1.1 200 OK\\r\\nServer: gunicorn/20.0.0\\r\\nDate: Wed, 26 Feb 2020 03:43:40 GMT\\r\\nConnection: close\\r\\nContent-Length: 906\\r\\nContent-Type: text/html; charset=utf-8\\r\\nLast-Modified: Wed, 20 Nov 2019 12:16:39 GMT\\r\\nCache-Control: public, max-age=43200\\r\\nExpires: Wed, 26 Feb 2020 15:43:40 GMT\\r\\nETag: \"1574252199.5130537-906-3327728349\"\\r\\nAccept-Ranges: bytes\\r\\n\\r\\n'\n",
      "http.title:\"Kubeflow Central Dashboard\" [0] \t - \t 'HTTP/1.1 200 OK\\r\\nDate: Thu, 19 Mar 2020 13:00:36 GMT\\r\\nContent-Type: text/html; charset=UTF-8\\r\\nContent-Length: 1433\\r\\nConnection: keep-alive\\r\\nx-powered-by: Express\\r\\naccept-ranges: bytes\\r\\ncache-control: public, max-age=0\\r\\nlast-modified: Wed, 30 Oct 2019 11:53:57 GMT\\r\\netag: W/\"599-16e1c83e808\"\\r\\nx-envoy-upstream-service-time: 0\\r\\nserver: istio-envoy\\r\\n\\r\\n'\n",
      "http.title:\"Kubeflow Central Dashboard\" [0] \t - \t 'HTTP/1.1 200 OK\\r\\nDate: Fri, 13 Mar 2020 02:58:01 GMT\\r\\nContent-Type: text/html; charset=UTF-8\\r\\nContent-Length: 1433\\r\\nConnection: keep-alive\\r\\nx-powered-by: Express\\r\\naccept-ranges: bytes\\r\\ncache-control: public, max-age=0\\r\\nlast-modified: Wed, 30 Oct 2019 11:53:57 GMT\\r\\netag: W/\"599-16e1c83e808\"\\r\\nx-envoy-upstream-service-time: 1\\r\\nserver: istio-envoy\\r\\n\\r\\n'\n",
      "http.title:\"Kubeflow Central Dashboard\" [0] \t - \t 'HTTP/1.1 200 OK\\r\\nDate: Wed, 26 Feb 2020 16:13:27 GMT\\r\\nContent-Type: text/html; charset=UTF-8\\r\\nContent-Length: 1433\\r\\nConnection: keep-alive\\r\\nx-powered-by: Express\\r\\naccept-ranges: bytes\\r\\ncache-control: public, max-age=0\\r\\nlast-modified: Wed, 30 Oct 2019 11:53:57 GMT\\r\\netag: W/\"599-16e1c83e808\"\\r\\nx-envoy-upstream-service-time: 0\\r\\nserver: istio-envoy\\r\\n\\r\\n'\n",
      "http.title:\"Kubeflow Central Dashboard\" [3] \t - \t 'HTTP/1.1 200 OK\\r\\nServer: nginx/1.16.1\\r\\nDate: Fri, 13 Mar 2020 14:11:31 GMT\\r\\nContent-Type: text/html; charset=UTF-8\\r\\nContent-Length: 1433\\r\\nConnection: keep-alive\\r\\nX-Powered-By: Express\\r\\nAccept-Ranges: bytes\\r\\nCache-Control: max-age=172800\\r\\nLast-Modified: Tue, 04 Feb 2020 02:23:44 GMT\\r\\nETag: W/\"599-1700e02b780\"\\r\\nExpires: Sun, 15 Mar 2020 14:11:31 GMT\\r\\nCache-Control: public, no-transform\\r\\n\\r\\n'\n",
      "http.title:\"Kubeflow Central Dashboard\" [0] \t - \t 'HTTP/1.1 200 OK\\r\\nDate: Sun, 01 Mar 2020 00:37:26 GMT\\r\\nContent-Type: text/html; charset=UTF-8\\r\\nContent-Length: 1433\\r\\nConnection: keep-alive\\r\\nx-powered-by: Express\\r\\naccept-ranges: bytes\\r\\ncache-control: public, max-age=0\\r\\nlast-modified: Tue, 04 Feb 2020 02:23:44 GMT\\r\\netag: W/\"599-1700e02b780\"\\r\\nx-envoy-upstream-service-time: 1\\r\\nserver: istio-envoy\\r\\n\\r\\n'\n",
      "http.title:\"Kubeflow Central Dashboard\" [0] \t - \t 'HTTP/1.1 200 OK\\r\\nDate: Tue, 25 Feb 2020 12:48:04 GMT\\r\\nContent-Type: text/html; charset=UTF-8\\r\\nContent-Length: 1433\\r\\nConnection: keep-alive\\r\\nx-powered-by: Express\\r\\naccept-ranges: bytes\\r\\ncache-control: public, max-age=0\\r\\nlast-modified: Wed, 30 Oct 2019 11:53:57 GMT\\r\\netag: W/\"599-16e1c83e808\"\\r\\nx-envoy-upstream-service-time: 1\\r\\nserver: istio-envoy\\r\\n\\r\\n'\n",
      "http.title:\"Kubeflow Central Dashboard\" [0] \t - \t 'HTTP/1.1 200 OK\\r\\nDate: Thu, 19 Mar 2020 09:51:14 GMT\\r\\nContent-Type: text/html; charset=UTF-8\\r\\nContent-Length: 1433\\r\\nConnection: keep-alive\\r\\nx-powered-by: Express\\r\\naccept-ranges: bytes\\r\\ncache-control: public, max-age=0\\r\\nlast-modified: Tue, 04 Feb 2020 02:23:44 GMT\\r\\netag: W/\"599-1700e02b780\"\\r\\nx-envoy-upstream-service-time: 0\\r\\nserver: istio-envoy\\r\\n\\r\\n'\n",
      "http.title:\"Kubeflow Central Dashboard\" [0] \t - \t 'HTTP/1.1 200 OK\\r\\nDate: Tue, 17 Mar 2020 07:09:08 GMT\\r\\nContent-Type: text/html; charset=UTF-8\\r\\nContent-Length: 1433\\r\\nConnection: keep-alive\\r\\nx-powered-by: Express\\r\\naccept-ranges: bytes\\r\\ncache-control: public, max-age=0\\r\\nlast-modified: Wed, 30 Oct 2019 11:53:57 GMT\\r\\netag: W/\"599-16e1c83e808\"\\r\\nx-envoy-upstream-service-time: 1\\r\\nserver: istio-envoy\\r\\n\\r\\n'\n",
      "http.title:\"Kubeflow Central Dashboard\" [0] \t - \t 'HTTP/1.1 200 OK\\r\\nDate: Mon, 02 Mar 2020 13:04:38 GMT\\r\\nContent-Type: text/html; charset=UTF-8\\r\\nContent-Length: 1433\\r\\nConnection: keep-alive\\r\\nx-powered-by: Express\\r\\naccept-ranges: bytes\\r\\ncache-control: public, max-age=0\\r\\nlast-modified: Wed, 30 Oct 2019 11:53:57 GMT\\r\\netag: W/\"599-16e1c83e808\"\\r\\nx-envoy-upstream-service-time: 0\\r\\nserver: istio-envoy\\r\\n\\r\\n'\n",
      "http.title:\"Kubeflow Central Dashboard\" [0] \t - \t 'HTTP/1.1 200 OK\\r\\nDate: Fri, 13 Mar 2020 11:17:56 GMT\\r\\nContent-Type: text/html; charset=UTF-8\\r\\nContent-Length: 1433\\r\\nConnection: keep-alive\\r\\nx-powered-by: Express\\r\\naccept-ranges: bytes\\r\\ncache-control: public, max-age=0\\r\\nlast-modified: Wed, 30 Oct 2019 11:53:57 GMT\\r\\netag: W/\"599-16e1c83e808\"\\r\\nx-envoy-upstream-service-time: 0\\r\\nserver: istio-envoy\\r\\n\\r\\n'\n"
     ]
    }
   ],
   "source": [
    "# Show some examples from clusters\n",
    "hosts_cluster.show_example_clusters()\n",
    "hosts_cluster.show_example_samples()"
   ]
  },
  {
   "cell_type": "code",
   "execution_count": 9,
   "metadata": {},
   "outputs": [],
   "source": [
    "# Save data per clusters\n",
    "hosts_cluster.save_clusters_results()"
   ]
  }
 ],
 "metadata": {
  "kernelspec": {
   "display_name": "Python 3",
   "language": "python",
   "name": "python3"
  },
  "language_info": {
   "codemirror_mode": {
    "name": "ipython",
    "version": 3
   },
   "file_extension": ".py",
   "mimetype": "text/x-python",
   "name": "python",
   "nbconvert_exporter": "python",
   "pygments_lexer": "ipython3",
   "version": "3.7.7"
  }
 },
 "nbformat": 4,
 "nbformat_minor": 4
}
