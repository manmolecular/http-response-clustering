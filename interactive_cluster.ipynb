{
 "cells": [
  {
   "cell_type": "code",
   "execution_count": 1,
   "metadata": {},
   "outputs": [],
   "source": [
    "# Import required libraries\n",
    "from handlers.files_handler import FilesHandler\n",
    "from helpers.tools import Tools\n",
    "from parsers.http_parser import HttpParser\n",
    "from copy import deepcopy\n",
    "from cluster.cluster import CustomCluster\n",
    "from typing import Tuple, List, Dict"
   ]
  },
  {
   "cell_type": "code",
   "execution_count": 2,
   "metadata": {},
   "outputs": [],
   "source": [
    "# Open data, prepare HTTP parser rules and process input data\n",
    "raw_results = FilesHandler().open_results()\n",
    "http_parser = HttpParser(process_cookie=True,\n",
    "                         process_trash_headers=True,\n",
    "                         remove_digits=False,\n",
    "                         remove_special=False)\n",
    "prepared_results = Tools.process_data(deepcopy(raw_results), http_parser)"
   ]
  },
  {
   "cell_type": "code",
   "execution_count": 3,
   "metadata": {},
   "outputs": [
    {
     "name": "stdout",
     "output_type": "stream",
     "text": [
      "Calculate results for 1 clusters\n",
      "Calculate results for 2 clusters\n",
      "Calculate results for 3 clusters\n",
      "Calculate results for 4 clusters\n",
      "Calculate results for 5 clusters\n",
      "Calculate results for 6 clusters\n",
      "Calculate results for 7 clusters\n",
      "Calculate results for 8 clusters\n",
      "Calculate results for 9 clusters\n"
     ]
    },
    {
     "data": {
      "image/png": "[encoded data removed]",
      "text/plain": [
       "<Figure size 432x288 with 1 Axes>"
      ]
     },
     "metadata": {
      "needs_background": "light"
     },
     "output_type": "display_data"
    }
   ],
   "source": [
    "# Create our Cluster object, determine the quantity of clusters\n",
    "cluster = CustomCluster(prepared_results)\n",
    "cluster.prepare_matrix()\n",
    "cluster.determine_k()"
   ]
  },
  {
   "cell_type": "code",
   "execution_count": 4,
   "metadata": {},
   "outputs": [
    {
     "name": "stdout",
     "output_type": "stream",
     "text": [
      "Current cluster: 0\n",
      "['kbn', 'cache', 'content', 'accept', 'kibana', 'version', 'encoding', 'vary', 'alive', 'bytes', 'ranges', 'control', 'type', 'random_value_contentlength', '200', 'ok', 'text', 'random_value_date', 'date', 'charset']\n",
      "Current cluster: 1\n",
      "['envoy', 'time', 'service', 'upstream', 'express', 'powered', 'istio', 'public', 'etag', 'random_value_lastmodified', 'random_value_etag', 'modified', 'age', 'max', 'content', 'server', 'charset', 'utf', 'ranges', 'bytes']\n",
      "Current cluster: 2\n",
      "['random_value_expires', 'expires', '43200', 'gunicorn', 'close', 'etag', 'random_value_etag', 'modified', 'random_value_lastmodified', 'public', 'max', 'age', 'content', 'server', '20', '19', 'charset', 'utf', 'control', 'cache']\n"
     ]
    }
   ],
   "source": [
    "# Use value from determine_k plot here. You need the Elbow of your plot\n",
    "cluster.make_cluster(clusters_q=3)"
   ]
  },
  {
   "cell_type": "code",
   "execution_count": 5,
   "metadata": {},
   "outputs": [
    {
     "name": "stdout",
     "output_type": "stream",
     "text": [
      " ---\n",
      "Examples\n",
      " ---\n",
      "kibana content-length: 217 [0] \t - \t 'HTTP/1.1 200 OK kbn-name: kibana kbn-version: 5.6.4 kbn-xpack-sig: 49902605a5a4230016d29708a111cb38 cache-control: no-cache content-type: text/html; charset=utf-8 content-length: random_value_contentlength accept-ranges: bytes vary: accept-encoding Date: random_value_date Connection: keep-alive'\n",
      "kibana content-length: 217 [0] \t - \t 'HTTP/1.1 200 OK kbn-name: kibana kbn-xpack-sig: cdb406043ca1d4b272b13d4a4479483a cache-control: no-cache content-type: text/html; charset=utf-8 content-length: random_value_contentlength accept-ranges: bytes vary: accept-encoding Date: random_value_date Connection: keep-alive'\n",
      "kibana content-length: 217 [0] \t - \t 'HTTP/1.1 200 OK kbn-name: kibana kbn-version: 5.6.16 cache-control: no-cache content-type: text/html; charset=utf-8 content-length: random_value_contentlength accept-ranges: bytes vary: accept-encoding Date: random_value_date Connection: keep-alive'\n",
      "kibana content-length: 217 [0] \t - \t 'HTTP/1.1 200 OK kbn-name: kibana kbn-version: 6.3.0 kbn-xpack-sig: a1317faa3b9d59a391357731006b5524 cache-control: no-cache content-type: text/html; charset=utf-8 content-length: random_value_contentlength accept-ranges: bytes vary: accept-encoding undefined: undefined Date: random_value_date Connection: keep-alive'\n",
      "kibana content-length: 217 [0] \t - \t 'HTTP/1.1 200 OK kbn-name: kibana cache-control: no-cache content-type: text/html; charset=utf-8 content-length: random_value_contentlength accept-ranges: bytes vary: accept-encoding Date: random_value_date Connection: keep-alive'\n",
      "kibana content-length: 217 [0] \t - \t 'HTTP/1.1 200 OK kbn-name: kibana kbn-version: 6.2.2 cache-control: no-cache content-type: text/html; charset=utf-8 content-length: random_value_contentlength accept-ranges: bytes vary: accept-encoding Date: random_value_date Connection: keep-alive'\n",
      "kibana content-length: 217 [0] \t - \t 'HTTP/1.1 200 OK accept-ranges: bytes cache-control: no-cache content-type: text/html; charset=utf-8 Date: random_value_date kbn-name: kibana kbn-version: 6.2.0 vary: accept-encoding Content-Length: random_value_contentlength Connection: keep-alive'\n",
      "kibana content-length: 217 [0] \t - \t 'HTTP/1.1 200 OK kbn-name: kibana kbn-xpack-sig: 206a37f1986a254639f113ff9680f858 cache-control: no-cache content-type: text/html; charset=utf-8 content-length: random_value_contentlength accept-ranges: bytes vary: accept-encoding Date: random_value_date Connection: keep-alive'\n",
      "kibana content-length: 217 [0] \t - \t 'HTTP/1.1 200 OK kbn-name: kibana kbn-version: 5.6.2 cache-control: no-cache content-type: text/html; charset=utf-8 content-length: random_value_contentlength accept-ranges: bytes vary: accept-encoding Date: random_value_date Connection: keep-alive'\n",
      "kibana content-length: 217 [0] \t - \t 'HTTP/1.1 200 OK kbn-name: kibana kbn-version: 6.2.2 cache-control: no-cache content-type: text/html; charset=utf-8 content-length: random_value_contentlength accept-ranges: bytes vary: accept-encoding Date: random_value_date Connection: keep-alive'\n",
      "http.title:\"MLflow\" [2] \t - \t 'HTTP/1.1 200 OK Server: nginx/1.14.0 (Ubuntu) Date: random_value_date Content-Type: text/html; charset=utf-8 Content-Length: random_value_contentlength Connection: keep-alive Last-Modified: random_value_lastmodified Cache-Control: public, max-age=43200 Expires: random_value_expires ETag: random_value_etag Accept-Ranges: bytes'\n",
      "http.title:\"MLflow\" [2] \t - \t 'HTTP/1.1 200 OK Server: nginx/1.16.1 Date: random_value_date Content-Type: text/html; charset=utf-8 Content-Length: random_value_contentlength Connection: keep-alive Last-Modified: random_value_lastmodified Cache-Control: public, max-age=43200 Expires: random_value_expires ETag: random_value_etag'\n",
      "http.title:\"MLflow\" [2] \t - \t 'HTTP/1.1 200 OK Server: gunicorn/20.0.4 Date: random_value_date Connection: close Content-Length: random_value_contentlength Content-Type: text/html; charset=utf-8 Last-Modified: random_value_lastmodified Cache-Control: public, max-age=43200 Expires: random_value_expires ETag: random_value_etag Accept-Ranges: bytes'\n",
      "http.title:\"MLflow\" [2] \t - \t 'HTTP/1.1 200 OK Server: gunicorn/20.0.4 Date: random_value_date Connection: close Content-Length: random_value_contentlength Content-Type: text/html; charset=utf-8 Last-Modified: random_value_lastmodified Cache-Control: public, max-age=43200 Expires: random_value_expires ETag: random_value_etag Accept-Ranges: bytes'\n",
      "http.title:\"MLflow\" [2] \t - \t 'HTTP/1.1 200 OK Date: random_value_date Content-Type: text/html; charset=utf-8 Content-Length: random_value_contentlength Connection: keep-alive Server: gunicorn/20.0.4 Last-Modified: random_value_lastmodified Cache-Control: public, max-age=43200 Expires: random_value_expires ETag: random_value_etag'\n",
      "http.title:\"MLflow\" [2] \t - \t 'HTTP/1.1 200 OK Server: gunicorn/19.9.0 Date: random_value_date Connection: close Content-Length: random_value_contentlength Content-Type: text/html; charset=utf-8 Last-Modified: random_value_lastmodified Cache-Control: public, max-age=43200 Expires: random_value_expires ETag: random_value_etag Accept-Ranges: bytes'\n",
      "http.title:\"MLflow\" [2] \t - \t 'HTTP/1.1 200 OK Server: gunicorn/20.0.4 Date: random_value_date Connection: close Content-Length: random_value_contentlength Content-Type: text/html; charset=utf-8 Last-Modified: random_value_lastmodified Cache-Control: public, max-age=43200 Expires: random_value_expires ETag: random_value_etag'\n",
      "http.title:\"MLflow\" [2] \t - \t 'HTTP/1.1 200 OK Server: gunicorn/20.0.4 Date: random_value_date Connection: close Content-Length: random_value_contentlength Content-Type: text/html; charset=utf-8 Last-Modified: random_value_lastmodified Cache-Control: public, max-age=43200 Expires: random_value_expires ETag: random_value_etag Accept-Ranges: bytes'\n",
      "http.title:\"MLflow\" [2] \t - \t 'HTTP/1.1 200 OK Server: gunicorn/19.9.0 Date: random_value_date Connection: close Content-Length: random_value_contentlength Content-Type: text/html; charset=utf-8 Last-Modified: random_value_lastmodified Cache-Control: public, max-age=43200 Expires: random_value_expires ETag: random_value_etag Accept-Ranges: bytes'\n",
      "http.title:\"MLflow\" [2] \t - \t 'HTTP/1.1 200 OK Server: gunicorn/19.9.0 Date: random_value_date Connection: close Content-Length: random_value_contentlength Content-Type: text/html; charset=utf-8 Last-Modified: random_value_lastmodified Cache-Control: public, max-age=43200 Expires: random_value_expires ETag: random_value_etag Accept-Ranges: bytes'\n",
      "http.title:\"Kubeflow Central Dashboard\" [1] \t - \t 'HTTP/1.1 200 OK Date: random_value_date Content-Type: text/html; charset=UTF-8 Content-Length: random_value_contentlength Connection: keep-alive x-powered-by: Express accept-ranges: bytes cache-control: public, max-age=0 last-modified: random_value_lastmodified etag: random_value_etag x-envoy-upstream-service-time: 0 server: istio-envoy'\n",
      "http.title:\"Kubeflow Central Dashboard\" [1] \t - \t 'HTTP/1.1 200 OK Date: random_value_date Content-Type: text/html; charset=UTF-8 Content-Length: random_value_contentlength Connection: keep-alive x-powered-by: Express accept-ranges: bytes cache-control: public, max-age=0 last-modified: random_value_lastmodified etag: random_value_etag x-envoy-upstream-service-time: 0 server: istio-envoy'\n",
      "http.title:\"Kubeflow Central Dashboard\" [1] \t - \t 'HTTP/1.1 200 OK Date: random_value_date Content-Type: text/html; charset=UTF-8 Content-Length: random_value_contentlength Connection: keep-alive x-powered-by: Express accept-ranges: bytes cache-control: public, max-age=0 last-modified: random_value_lastmodified etag: random_value_etag x-envoy-upstream-service-time: 0 server: istio-envoy'\n",
      "http.title:\"Kubeflow Central Dashboard\" [1] \t - \t 'HTTP/1.1 200 OK Date: random_value_date Content-Type: text/html; charset=UTF-8 Content-Length: random_value_contentlength Connection: keep-alive x-powered-by: Express accept-ranges: bytes cache-control: public, max-age=0 last-modified: random_value_lastmodified etag: random_value_etag x-envoy-upstream-service-time: 0 server: istio-envoy'\n",
      "http.title:\"Kubeflow Central Dashboard\" [2] \t - \t 'HTTP/1.1 200 OK Server: nginx/1.16.1 Date: random_value_date Content-Type: text/html; charset=UTF-8 Content-Length: random_value_contentlength Connection: keep-alive X-Powered-By: Express Accept-Ranges: bytes Cache-Control: max-age=172800 Last-Modified: random_value_lastmodified ETag: random_value_etag Expires: random_value_expires Cache-Control: public, no-transform'\n",
      "http.title:\"Kubeflow Central Dashboard\" [1] \t - \t 'HTTP/1.1 200 OK x-powered-by: Express accept-ranges: bytes cache-control: public, max-age=0 last-modified: random_value_lastmodified etag: random_value_etag content-type: text/html; charset=UTF-8 content-length: random_value_contentlength date: random_value_date x-envoy-upstream-service-time: 0 server: istio-envoy'\n",
      "http.title:\"Kubeflow Central Dashboard\" [1] \t - \t 'HTTP/1.1 200 OK Date: random_value_date Content-Type: text/html; charset=UTF-8 Content-Length: random_value_contentlength Connection: keep-alive x-powered-by: Express accept-ranges: bytes cache-control: public, max-age=0 last-modified: random_value_lastmodified etag: random_value_etag x-envoy-upstream-service-time: 1 server: istio-envoy'\n",
      "http.title:\"Kubeflow Central Dashboard\" [1] \t - \t 'HTTP/1.1 200 OK x-powered-by: Express accept-ranges: bytes cache-control: public, max-age=0 last-modified: random_value_lastmodified etag: random_value_etag content-type: text/html; charset=UTF-8 content-length: random_value_contentlength date: random_value_date x-envoy-upstream-service-time: 1 server: envoy'\n",
      "http.title:\"Kubeflow Central Dashboard\" [1] \t - \t 'HTTP/1.1 200 OK Date: random_value_date Content-Type: text/html; charset=UTF-8 Content-Length: random_value_contentlength Connection: keep-alive x-powered-by: Express accept-ranges: bytes cache-control: public, max-age=0 last-modified: random_value_lastmodified etag: random_value_etag x-envoy-upstream-service-time: 0 server: istio-envoy'\n",
      "http.title:\"Kubeflow Central Dashboard\" [1] \t - \t 'HTTP/1.1 200 OK x-powered-by: Express accept-ranges: bytes cache-control: public, max-age=0 last-modified: random_value_lastmodified etag: random_value_etag content-type: text/html; charset=UTF-8 content-length: random_value_contentlength date: random_value_date x-envoy-upstream-service-time: 2 server: istio-envoy'\n"
     ]
    }
   ],
   "source": [
    "# Show some results of clustering\n",
    "samples_per_class = Tools.get_random_samples_from_results(raw_results)\n",
    "\n",
    "print(\" ---\\nExamples\\n ---\")\n",
    "for class_name, class_data in samples_per_class:\n",
    "\n",
    "    class_data = http_parser.process_headers(class_data)\n",
    "    if not class_data:\n",
    "        continue\n",
    "\n",
    "    print(class_name, cluster.predict(class_data), \"\\t - \\t\", repr(class_data))"
   ]
  },
  {
   "cell_type": "code",
   "execution_count": null,
   "metadata": {},
   "outputs": [],
   "source": []
  }
 ],
 "metadata": {
  "kernelspec": {
   "display_name": "Python 3",
   "language": "python",
   "name": "python3"
  },
  "language_info": {
   "codemirror_mode": {
    "name": "ipython",
    "version": 3
   },
   "file_extension": ".py",
   "mimetype": "text/x-python",
   "name": "python",
   "nbconvert_exporter": "python",
   "pygments_lexer": "ipython3",
   "version": "3.7.7"
  }
 },
 "nbformat": 4,
 "nbformat_minor": 4
}
